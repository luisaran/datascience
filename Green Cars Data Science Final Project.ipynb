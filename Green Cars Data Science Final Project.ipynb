{
 "cells": [
  {
   "cell_type": "markdown",
   "id": "d6ac61aa",
   "metadata": {},
   "source": [
    "## Green Cars- Data Science Course Final Project"
   ]
  },
  {
   "cell_type": "markdown",
   "id": "9697cc48",
   "metadata": {},
   "source": [
    "## Load Packages"
   ]
  },
  {
   "cell_type": "code",
   "execution_count": 35,
   "id": "ed099220",
   "metadata": {},
   "outputs": [],
   "source": [
    "library(\"dplyr\")\n",
    "library(\"tidyr\")\n",
    "library(\"readxl\")"
   ]
  },
  {
   "cell_type": "markdown",
   "id": "4ee4af4a",
   "metadata": {},
   "source": [
    "## Load Data Set"
   ]
  },
  {
   "cell_type": "code",
   "execution_count": 36,
   "id": "af8e6cd4",
   "metadata": {},
   "outputs": [],
   "source": [
    "Green_cars= read.csv(\"Electric_Vehicle_Population_Data.csv\")"
   ]
  },
  {
   "cell_type": "code",
   "execution_count": 37,
   "id": "1a987f7c",
   "metadata": {},
   "outputs": [
    {
     "data": {
      "text/html": [
       "<table class=\"dataframe\">\n",
       "<caption>A data.frame: 6 × 17</caption>\n",
       "<thead>\n",
       "\t<tr><th></th><th scope=col>VIN..1.10.</th><th scope=col>County</th><th scope=col>City</th><th scope=col>State</th><th scope=col>Postal.Code</th><th scope=col>Model_Year</th><th scope=col>Make</th><th scope=col>Model</th><th scope=col>Electric.Vehicle.Type</th><th scope=col>Clean.Alternative.Fuel.Vehicle..CAFV..Eligibility</th><th scope=col>Electric.Range</th><th scope=col>Base.MSRP</th><th scope=col>Legislative.District</th><th scope=col>DOL.Vehicle.ID</th><th scope=col>Vehicle.Location</th><th scope=col>Electric.Utility</th><th scope=col>X2020.Census.Tract</th></tr>\n",
       "\t<tr><th></th><th scope=col>&lt;chr&gt;</th><th scope=col>&lt;chr&gt;</th><th scope=col>&lt;chr&gt;</th><th scope=col>&lt;chr&gt;</th><th scope=col>&lt;int&gt;</th><th scope=col>&lt;int&gt;</th><th scope=col>&lt;chr&gt;</th><th scope=col>&lt;chr&gt;</th><th scope=col>&lt;chr&gt;</th><th scope=col>&lt;chr&gt;</th><th scope=col>&lt;int&gt;</th><th scope=col>&lt;int&gt;</th><th scope=col>&lt;int&gt;</th><th scope=col>&lt;int&gt;</th><th scope=col>&lt;chr&gt;</th><th scope=col>&lt;chr&gt;</th><th scope=col>&lt;dbl&gt;</th></tr>\n",
       "</thead>\n",
       "<tbody>\n",
       "\t<tr><th scope=row>1</th><td>WP0AB2Y13M</td><td>Thurston </td><td>Olympia     </td><td>WA</td><td>98513</td><td>2021</td><td>PORSCHE  </td><td>TAYCAN     </td><td>Battery Electric Vehicle (BEV)        </td><td>Clean Alternative Fuel Vehicle Eligible</td><td>203</td><td>0</td><td> 2</td><td>156659646</td><td>POINT (-122.751179 47.002092)</td><td>PUGET SOUND ENERGY INC  </td><td>53067012331</td></tr>\n",
       "\t<tr><th scope=row>2</th><td>1N4BZ1CP0K</td><td>Grant    </td><td>Quincy      </td><td>WA</td><td>98848</td><td>2019</td><td>NISSAN   </td><td>LEAF       </td><td>Battery Electric Vehicle (BEV)        </td><td>Clean Alternative Fuel Vehicle Eligible</td><td>150</td><td>0</td><td>12</td><td>157077469</td><td>POINT (-119.830891 47.164101)</td><td>PUD NO 2 OF GRANT COUNTY</td><td>53025011200</td></tr>\n",
       "\t<tr><th scope=row>3</th><td>1G1FX6S06J</td><td>Skagit   </td><td>Mount Vernon</td><td>WA</td><td>98274</td><td>2018</td><td>CHEVROLET</td><td>BOLT EV    </td><td>Battery Electric Vehicle (BEV)        </td><td>Clean Alternative Fuel Vehicle Eligible</td><td>238</td><td>0</td><td>10</td><td>250701013</td><td>POINT (-122.250701 48.368138)</td><td>PUGET SOUND ENERGY INC  </td><td>53057952700</td></tr>\n",
       "\t<tr><th scope=row>4</th><td>JTDKAMFP3M</td><td>Yakima   </td><td>Yakima      </td><td>WA</td><td>98902</td><td>2021</td><td>TOYOTA   </td><td>PRIUS PRIME</td><td>Plug-in Hybrid Electric Vehicle (PHEV)</td><td>Not eligible due to low battery range  </td><td> 25</td><td>0</td><td>14</td><td>156585922</td><td>POINT (-120.532719 46.59458) </td><td>                        </td><td>53077001000</td></tr>\n",
       "\t<tr><th scope=row>5</th><td>1N4AZ1CP4L</td><td>Snohomish</td><td>Everett     </td><td>WA</td><td>98208</td><td>2020</td><td>NISSAN   </td><td>LEAF       </td><td>Battery Electric Vehicle (BEV)        </td><td>Clean Alternative Fuel Vehicle Eligible</td><td>149</td><td>0</td><td>44</td><td>128498779</td><td>POINT (-122.19615 47.894423) </td><td>PUGET SOUND ENERGY INC  </td><td>53061052120</td></tr>\n",
       "\t<tr><th scope=row>6</th><td>5YJSA1S2XF</td><td>Grant    </td><td>Moses Lake  </td><td>WA</td><td>98837</td><td>2015</td><td>TESLA    </td><td>MODEL S    </td><td>Battery Electric Vehicle (BEV)        </td><td>Clean Alternative Fuel Vehicle Eligible</td><td>208</td><td>0</td><td>13</td><td>132461094</td><td>POINT (-119.280576 47.149471)</td><td>PUD NO 2 OF GRANT COUNTY</td><td>53025011002</td></tr>\n",
       "</tbody>\n",
       "</table>\n"
      ],
      "text/latex": [
       "A data.frame: 6 × 17\n",
       "\\begin{tabular}{r|lllllllllllllllll}\n",
       "  & VIN..1.10. & County & City & State & Postal.Code & Model\\_Year & Make & Model & Electric.Vehicle.Type & Clean.Alternative.Fuel.Vehicle..CAFV..Eligibility & Electric.Range & Base.MSRP & Legislative.District & DOL.Vehicle.ID & Vehicle.Location & Electric.Utility & X2020.Census.Tract\\\\\n",
       "  & <chr> & <chr> & <chr> & <chr> & <int> & <int> & <chr> & <chr> & <chr> & <chr> & <int> & <int> & <int> & <int> & <chr> & <chr> & <dbl>\\\\\n",
       "\\hline\n",
       "\t1 & WP0AB2Y13M & Thurston  & Olympia      & WA & 98513 & 2021 & PORSCHE   & TAYCAN      & Battery Electric Vehicle (BEV)         & Clean Alternative Fuel Vehicle Eligible & 203 & 0 &  2 & 156659646 & POINT (-122.751179 47.002092) & PUGET SOUND ENERGY INC   & 53067012331\\\\\n",
       "\t2 & 1N4BZ1CP0K & Grant     & Quincy       & WA & 98848 & 2019 & NISSAN    & LEAF        & Battery Electric Vehicle (BEV)         & Clean Alternative Fuel Vehicle Eligible & 150 & 0 & 12 & 157077469 & POINT (-119.830891 47.164101) & PUD NO 2 OF GRANT COUNTY & 53025011200\\\\\n",
       "\t3 & 1G1FX6S06J & Skagit    & Mount Vernon & WA & 98274 & 2018 & CHEVROLET & BOLT EV     & Battery Electric Vehicle (BEV)         & Clean Alternative Fuel Vehicle Eligible & 238 & 0 & 10 & 250701013 & POINT (-122.250701 48.368138) & PUGET SOUND ENERGY INC   & 53057952700\\\\\n",
       "\t4 & JTDKAMFP3M & Yakima    & Yakima       & WA & 98902 & 2021 & TOYOTA    & PRIUS PRIME & Plug-in Hybrid Electric Vehicle (PHEV) & Not eligible due to low battery range   &  25 & 0 & 14 & 156585922 & POINT (-120.532719 46.59458)  &                          & 53077001000\\\\\n",
       "\t5 & 1N4AZ1CP4L & Snohomish & Everett      & WA & 98208 & 2020 & NISSAN    & LEAF        & Battery Electric Vehicle (BEV)         & Clean Alternative Fuel Vehicle Eligible & 149 & 0 & 44 & 128498779 & POINT (-122.19615 47.894423)  & PUGET SOUND ENERGY INC   & 53061052120\\\\\n",
       "\t6 & 5YJSA1S2XF & Grant     & Moses Lake   & WA & 98837 & 2015 & TESLA     & MODEL S     & Battery Electric Vehicle (BEV)         & Clean Alternative Fuel Vehicle Eligible & 208 & 0 & 13 & 132461094 & POINT (-119.280576 47.149471) & PUD NO 2 OF GRANT COUNTY & 53025011002\\\\\n",
       "\\end{tabular}\n"
      ],
      "text/markdown": [
       "\n",
       "A data.frame: 6 × 17\n",
       "\n",
       "| <!--/--> | VIN..1.10. &lt;chr&gt; | County &lt;chr&gt; | City &lt;chr&gt; | State &lt;chr&gt; | Postal.Code &lt;int&gt; | Model_Year &lt;int&gt; | Make &lt;chr&gt; | Model &lt;chr&gt; | Electric.Vehicle.Type &lt;chr&gt; | Clean.Alternative.Fuel.Vehicle..CAFV..Eligibility &lt;chr&gt; | Electric.Range &lt;int&gt; | Base.MSRP &lt;int&gt; | Legislative.District &lt;int&gt; | DOL.Vehicle.ID &lt;int&gt; | Vehicle.Location &lt;chr&gt; | Electric.Utility &lt;chr&gt; | X2020.Census.Tract &lt;dbl&gt; |\n",
       "|---|---|---|---|---|---|---|---|---|---|---|---|---|---|---|---|---|---|\n",
       "| 1 | WP0AB2Y13M | Thurston  | Olympia      | WA | 98513 | 2021 | PORSCHE   | TAYCAN      | Battery Electric Vehicle (BEV)         | Clean Alternative Fuel Vehicle Eligible | 203 | 0 |  2 | 156659646 | POINT (-122.751179 47.002092) | PUGET SOUND ENERGY INC   | 53067012331 |\n",
       "| 2 | 1N4BZ1CP0K | Grant     | Quincy       | WA | 98848 | 2019 | NISSAN    | LEAF        | Battery Electric Vehicle (BEV)         | Clean Alternative Fuel Vehicle Eligible | 150 | 0 | 12 | 157077469 | POINT (-119.830891 47.164101) | PUD NO 2 OF GRANT COUNTY | 53025011200 |\n",
       "| 3 | 1G1FX6S06J | Skagit    | Mount Vernon | WA | 98274 | 2018 | CHEVROLET | BOLT EV     | Battery Electric Vehicle (BEV)         | Clean Alternative Fuel Vehicle Eligible | 238 | 0 | 10 | 250701013 | POINT (-122.250701 48.368138) | PUGET SOUND ENERGY INC   | 53057952700 |\n",
       "| 4 | JTDKAMFP3M | Yakima    | Yakima       | WA | 98902 | 2021 | TOYOTA    | PRIUS PRIME | Plug-in Hybrid Electric Vehicle (PHEV) | Not eligible due to low battery range   |  25 | 0 | 14 | 156585922 | POINT (-120.532719 46.59458)  | <!----> | 53077001000 |\n",
       "| 5 | 1N4AZ1CP4L | Snohomish | Everett      | WA | 98208 | 2020 | NISSAN    | LEAF        | Battery Electric Vehicle (BEV)         | Clean Alternative Fuel Vehicle Eligible | 149 | 0 | 44 | 128498779 | POINT (-122.19615 47.894423)  | PUGET SOUND ENERGY INC   | 53061052120 |\n",
       "| 6 | 5YJSA1S2XF | Grant     | Moses Lake   | WA | 98837 | 2015 | TESLA     | MODEL S     | Battery Electric Vehicle (BEV)         | Clean Alternative Fuel Vehicle Eligible | 208 | 0 | 13 | 132461094 | POINT (-119.280576 47.149471) | PUD NO 2 OF GRANT COUNTY | 53025011002 |\n",
       "\n"
      ],
      "text/plain": [
       "  VIN..1.10. County    City         State Postal.Code Model_Year Make     \n",
       "1 WP0AB2Y13M Thurston  Olympia      WA    98513       2021       PORSCHE  \n",
       "2 1N4BZ1CP0K Grant     Quincy       WA    98848       2019       NISSAN   \n",
       "3 1G1FX6S06J Skagit    Mount Vernon WA    98274       2018       CHEVROLET\n",
       "4 JTDKAMFP3M Yakima    Yakima       WA    98902       2021       TOYOTA   \n",
       "5 1N4AZ1CP4L Snohomish Everett      WA    98208       2020       NISSAN   \n",
       "6 5YJSA1S2XF Grant     Moses Lake   WA    98837       2015       TESLA    \n",
       "  Model       Electric.Vehicle.Type                 \n",
       "1 TAYCAN      Battery Electric Vehicle (BEV)        \n",
       "2 LEAF        Battery Electric Vehicle (BEV)        \n",
       "3 BOLT EV     Battery Electric Vehicle (BEV)        \n",
       "4 PRIUS PRIME Plug-in Hybrid Electric Vehicle (PHEV)\n",
       "5 LEAF        Battery Electric Vehicle (BEV)        \n",
       "6 MODEL S     Battery Electric Vehicle (BEV)        \n",
       "  Clean.Alternative.Fuel.Vehicle..CAFV..Eligibility Electric.Range Base.MSRP\n",
       "1 Clean Alternative Fuel Vehicle Eligible           203            0        \n",
       "2 Clean Alternative Fuel Vehicle Eligible           150            0        \n",
       "3 Clean Alternative Fuel Vehicle Eligible           238            0        \n",
       "4 Not eligible due to low battery range              25            0        \n",
       "5 Clean Alternative Fuel Vehicle Eligible           149            0        \n",
       "6 Clean Alternative Fuel Vehicle Eligible           208            0        \n",
       "  Legislative.District DOL.Vehicle.ID Vehicle.Location             \n",
       "1  2                   156659646      POINT (-122.751179 47.002092)\n",
       "2 12                   157077469      POINT (-119.830891 47.164101)\n",
       "3 10                   250701013      POINT (-122.250701 48.368138)\n",
       "4 14                   156585922      POINT (-120.532719 46.59458) \n",
       "5 44                   128498779      POINT (-122.19615 47.894423) \n",
       "6 13                   132461094      POINT (-119.280576 47.149471)\n",
       "  Electric.Utility         X2020.Census.Tract\n",
       "1 PUGET SOUND ENERGY INC   53067012331       \n",
       "2 PUD NO 2 OF GRANT COUNTY 53025011200       \n",
       "3 PUGET SOUND ENERGY INC   53057952700       \n",
       "4                          53077001000       \n",
       "5 PUGET SOUND ENERGY INC   53061052120       \n",
       "6 PUD NO 2 OF GRANT COUNTY 53025011002       "
      ]
     },
     "metadata": {},
     "output_type": "display_data"
    }
   ],
   "source": [
    "head(Green_cars)"
   ]
  },
  {
   "cell_type": "markdown",
   "id": "6e2557b5",
   "metadata": {},
   "source": [
    "## Subseting Data"
   ]
  },
  {
   "cell_type": "markdown",
   "id": "8cfd34b3",
   "metadata": {},
   "source": [
    "## Creating Single Linear Regression Subset"
   ]
  },
  {
   "cell_type": "code",
   "execution_count": 38,
   "id": "a089d311",
   "metadata": {},
   "outputs": [],
   "source": [
    "Subset1=c(\"Model_Year\",\"DOL.Vehicle.ID\")\n",
    "Green_cars1=Green_cars[Subset1]"
   ]
  },
  {
   "cell_type": "code",
   "execution_count": 39,
   "id": "7625477a",
   "metadata": {},
   "outputs": [
    {
     "data": {
      "text/html": [
       "<table class=\"dataframe\">\n",
       "<caption>A data.frame: 6 × 2</caption>\n",
       "<thead>\n",
       "\t<tr><th></th><th scope=col>Model_Year</th><th scope=col>DOL.Vehicle.ID</th></tr>\n",
       "\t<tr><th></th><th scope=col>&lt;int&gt;</th><th scope=col>&lt;int&gt;</th></tr>\n",
       "</thead>\n",
       "<tbody>\n",
       "\t<tr><th scope=row>1</th><td>2021</td><td>156659646</td></tr>\n",
       "\t<tr><th scope=row>2</th><td>2019</td><td>157077469</td></tr>\n",
       "\t<tr><th scope=row>3</th><td>2018</td><td>250701013</td></tr>\n",
       "\t<tr><th scope=row>4</th><td>2021</td><td>156585922</td></tr>\n",
       "\t<tr><th scope=row>5</th><td>2020</td><td>128498779</td></tr>\n",
       "\t<tr><th scope=row>6</th><td>2015</td><td>132461094</td></tr>\n",
       "</tbody>\n",
       "</table>\n"
      ],
      "text/latex": [
       "A data.frame: 6 × 2\n",
       "\\begin{tabular}{r|ll}\n",
       "  & Model\\_Year & DOL.Vehicle.ID\\\\\n",
       "  & <int> & <int>\\\\\n",
       "\\hline\n",
       "\t1 & 2021 & 156659646\\\\\n",
       "\t2 & 2019 & 157077469\\\\\n",
       "\t3 & 2018 & 250701013\\\\\n",
       "\t4 & 2021 & 156585922\\\\\n",
       "\t5 & 2020 & 128498779\\\\\n",
       "\t6 & 2015 & 132461094\\\\\n",
       "\\end{tabular}\n"
      ],
      "text/markdown": [
       "\n",
       "A data.frame: 6 × 2\n",
       "\n",
       "| <!--/--> | Model_Year &lt;int&gt; | DOL.Vehicle.ID &lt;int&gt; |\n",
       "|---|---|---|\n",
       "| 1 | 2021 | 156659646 |\n",
       "| 2 | 2019 | 157077469 |\n",
       "| 3 | 2018 | 250701013 |\n",
       "| 4 | 2021 | 156585922 |\n",
       "| 5 | 2020 | 128498779 |\n",
       "| 6 | 2015 | 132461094 |\n",
       "\n"
      ],
      "text/plain": [
       "  Model_Year DOL.Vehicle.ID\n",
       "1 2021       156659646     \n",
       "2 2019       157077469     \n",
       "3 2018       250701013     \n",
       "4 2021       156585922     \n",
       "5 2020       128498779     \n",
       "6 2015       132461094     "
      ]
     },
     "metadata": {},
     "output_type": "display_data"
    }
   ],
   "source": [
    "head(Green_cars1)"
   ]
  },
  {
   "cell_type": "code",
   "execution_count": 40,
   "id": "c5e3b3b7",
   "metadata": {},
   "outputs": [],
   "source": [
    "Green_cars2=Green_cars1 %>% group_by(Model_Year) %>% summarize(count = n())"
   ]
  },
  {
   "cell_type": "code",
   "execution_count": 41,
   "id": "3140d18f",
   "metadata": {},
   "outputs": [
    {
     "data": {
      "text/html": [
       "<table class=\"dataframe\">\n",
       "<caption>A tibble: 19 × 2</caption>\n",
       "<thead>\n",
       "\t<tr><th scope=col>Model_Year</th><th scope=col>count</th></tr>\n",
       "\t<tr><th scope=col>&lt;int&gt;</th><th scope=col>&lt;int&gt;</th></tr>\n",
       "</thead>\n",
       "<tbody>\n",
       "\t<tr><td>1993</td><td>    1</td></tr>\n",
       "\t<tr><td>1998</td><td>    1</td></tr>\n",
       "\t<tr><td>1999</td><td>    3</td></tr>\n",
       "\t<tr><td>2000</td><td>   10</td></tr>\n",
       "\t<tr><td>2002</td><td>    2</td></tr>\n",
       "\t<tr><td>2008</td><td>   24</td></tr>\n",
       "\t<tr><td>2010</td><td>   25</td></tr>\n",
       "\t<tr><td>2011</td><td>  856</td></tr>\n",
       "\t<tr><td>2012</td><td> 1721</td></tr>\n",
       "\t<tr><td>2013</td><td> 4804</td></tr>\n",
       "\t<tr><td>2014</td><td> 3771</td></tr>\n",
       "\t<tr><td>2015</td><td> 5032</td></tr>\n",
       "\t<tr><td>2016</td><td> 6376</td></tr>\n",
       "\t<tr><td>2017</td><td> 9787</td></tr>\n",
       "\t<tr><td>2018</td><td>14270</td></tr>\n",
       "\t<tr><td>2019</td><td>10751</td></tr>\n",
       "\t<tr><td>2020</td><td>11178</td></tr>\n",
       "\t<tr><td>2021</td><td>19677</td></tr>\n",
       "\t<tr><td>2022</td><td>11980</td></tr>\n",
       "</tbody>\n",
       "</table>\n"
      ],
      "text/latex": [
       "A tibble: 19 × 2\n",
       "\\begin{tabular}{ll}\n",
       " Model\\_Year & count\\\\\n",
       " <int> & <int>\\\\\n",
       "\\hline\n",
       "\t 1993 &     1\\\\\n",
       "\t 1998 &     1\\\\\n",
       "\t 1999 &     3\\\\\n",
       "\t 2000 &    10\\\\\n",
       "\t 2002 &     2\\\\\n",
       "\t 2008 &    24\\\\\n",
       "\t 2010 &    25\\\\\n",
       "\t 2011 &   856\\\\\n",
       "\t 2012 &  1721\\\\\n",
       "\t 2013 &  4804\\\\\n",
       "\t 2014 &  3771\\\\\n",
       "\t 2015 &  5032\\\\\n",
       "\t 2016 &  6376\\\\\n",
       "\t 2017 &  9787\\\\\n",
       "\t 2018 & 14270\\\\\n",
       "\t 2019 & 10751\\\\\n",
       "\t 2020 & 11178\\\\\n",
       "\t 2021 & 19677\\\\\n",
       "\t 2022 & 11980\\\\\n",
       "\\end{tabular}\n"
      ],
      "text/markdown": [
       "\n",
       "A tibble: 19 × 2\n",
       "\n",
       "| Model_Year &lt;int&gt; | count &lt;int&gt; |\n",
       "|---|---|\n",
       "| 1993 |     1 |\n",
       "| 1998 |     1 |\n",
       "| 1999 |     3 |\n",
       "| 2000 |    10 |\n",
       "| 2002 |     2 |\n",
       "| 2008 |    24 |\n",
       "| 2010 |    25 |\n",
       "| 2011 |   856 |\n",
       "| 2012 |  1721 |\n",
       "| 2013 |  4804 |\n",
       "| 2014 |  3771 |\n",
       "| 2015 |  5032 |\n",
       "| 2016 |  6376 |\n",
       "| 2017 |  9787 |\n",
       "| 2018 | 14270 |\n",
       "| 2019 | 10751 |\n",
       "| 2020 | 11178 |\n",
       "| 2021 | 19677 |\n",
       "| 2022 | 11980 |\n",
       "\n"
      ],
      "text/plain": [
       "   Model_Year count\n",
       "1  1993           1\n",
       "2  1998           1\n",
       "3  1999           3\n",
       "4  2000          10\n",
       "5  2002           2\n",
       "6  2008          24\n",
       "7  2010          25\n",
       "8  2011         856\n",
       "9  2012        1721\n",
       "10 2013        4804\n",
       "11 2014        3771\n",
       "12 2015        5032\n",
       "13 2016        6376\n",
       "14 2017        9787\n",
       "15 2018       14270\n",
       "16 2019       10751\n",
       "17 2020       11178\n",
       "18 2021       19677\n",
       "19 2022       11980"
      ]
     },
     "metadata": {},
     "output_type": "display_data"
    }
   ],
   "source": [
    "View(Green_cars2)"
   ]
  },
  {
   "cell_type": "markdown",
   "id": "958f709e",
   "metadata": {},
   "source": [
    "## subsetting For Anova Analysis"
   ]
  },
  {
   "cell_type": "code",
   "execution_count": 31,
   "id": "113350ce",
   "metadata": {},
   "outputs": [],
   "source": [
    "Subset2=c(\"Make\",\"DOL.Vehicle.ID\")\n",
    "Green_cars3=Green_cars[Subset2]"
   ]
  },
  {
   "cell_type": "code",
   "execution_count": 32,
   "id": "6eb3e063",
   "metadata": {},
   "outputs": [
    {
     "data": {
      "text/html": [
       "<table class=\"dataframe\">\n",
       "<caption>A data.frame: 6 × 2</caption>\n",
       "<thead>\n",
       "\t<tr><th></th><th scope=col>Make</th><th scope=col>DOL.Vehicle.ID</th></tr>\n",
       "\t<tr><th></th><th scope=col>&lt;chr&gt;</th><th scope=col>&lt;int&gt;</th></tr>\n",
       "</thead>\n",
       "<tbody>\n",
       "\t<tr><th scope=row>1</th><td>PORSCHE  </td><td>156659646</td></tr>\n",
       "\t<tr><th scope=row>2</th><td>NISSAN   </td><td>157077469</td></tr>\n",
       "\t<tr><th scope=row>3</th><td>CHEVROLET</td><td>250701013</td></tr>\n",
       "\t<tr><th scope=row>4</th><td>TOYOTA   </td><td>156585922</td></tr>\n",
       "\t<tr><th scope=row>5</th><td>NISSAN   </td><td>128498779</td></tr>\n",
       "\t<tr><th scope=row>6</th><td>TESLA    </td><td>132461094</td></tr>\n",
       "</tbody>\n",
       "</table>\n"
      ],
      "text/latex": [
       "A data.frame: 6 × 2\n",
       "\\begin{tabular}{r|ll}\n",
       "  & Make & DOL.Vehicle.ID\\\\\n",
       "  & <chr> & <int>\\\\\n",
       "\\hline\n",
       "\t1 & PORSCHE   & 156659646\\\\\n",
       "\t2 & NISSAN    & 157077469\\\\\n",
       "\t3 & CHEVROLET & 250701013\\\\\n",
       "\t4 & TOYOTA    & 156585922\\\\\n",
       "\t5 & NISSAN    & 128498779\\\\\n",
       "\t6 & TESLA     & 132461094\\\\\n",
       "\\end{tabular}\n"
      ],
      "text/markdown": [
       "\n",
       "A data.frame: 6 × 2\n",
       "\n",
       "| <!--/--> | Make &lt;chr&gt; | DOL.Vehicle.ID &lt;int&gt; |\n",
       "|---|---|---|\n",
       "| 1 | PORSCHE   | 156659646 |\n",
       "| 2 | NISSAN    | 157077469 |\n",
       "| 3 | CHEVROLET | 250701013 |\n",
       "| 4 | TOYOTA    | 156585922 |\n",
       "| 5 | NISSAN    | 128498779 |\n",
       "| 6 | TESLA     | 132461094 |\n",
       "\n"
      ],
      "text/plain": [
       "  Make      DOL.Vehicle.ID\n",
       "1 PORSCHE   156659646     \n",
       "2 NISSAN    157077469     \n",
       "3 CHEVROLET 250701013     \n",
       "4 TOYOTA    156585922     \n",
       "5 NISSAN    128498779     \n",
       "6 TESLA     132461094     "
      ]
     },
     "metadata": {},
     "output_type": "display_data"
    }
   ],
   "source": [
    "head(Green_cars3)"
   ]
  },
  {
   "cell_type": "code",
   "execution_count": 34,
   "id": "a965fc29",
   "metadata": {},
   "outputs": [],
   "source": [
    "Green_cars4=Green_cars3 %>% group_by(Make) %>% summarize(count = n())"
   ]
  },
  {
   "cell_type": "code",
   "execution_count": 43,
   "id": "46ad96f3",
   "metadata": {},
   "outputs": [
    {
     "data": {
      "text/html": [
       "<table class=\"dataframe\">\n",
       "<caption>A tibble: 34 × 2</caption>\n",
       "<thead>\n",
       "\t<tr><th scope=col>Make</th><th scope=col>count</th></tr>\n",
       "\t<tr><th scope=col>&lt;chr&gt;</th><th scope=col>&lt;int&gt;</th></tr>\n",
       "</thead>\n",
       "<tbody>\n",
       "\t<tr><td>AUDI                </td><td> 2009</td></tr>\n",
       "\t<tr><td>AZURE DYNAMICS      </td><td>    7</td></tr>\n",
       "\t<tr><td>BENTLEY             </td><td>    2</td></tr>\n",
       "\t<tr><td>BMW                 </td><td> 4187</td></tr>\n",
       "\t<tr><td>CADILLAC            </td><td>  109</td></tr>\n",
       "\t<tr><td>CHEVROLET           </td><td> 9499</td></tr>\n",
       "\t<tr><td>CHRYSLER            </td><td> 1675</td></tr>\n",
       "\t<tr><td>DODGE               </td><td>    1</td></tr>\n",
       "\t<tr><td>FIAT                </td><td>  826</td></tr>\n",
       "\t<tr><td>FISKER              </td><td>   13</td></tr>\n",
       "\t<tr><td>FORD                </td><td> 5966</td></tr>\n",
       "\t<tr><td>HONDA               </td><td>  774</td></tr>\n",
       "\t<tr><td>HYUNDAI             </td><td> 1485</td></tr>\n",
       "\t<tr><td>JAGUAR              </td><td>  205</td></tr>\n",
       "\t<tr><td>JEEP                </td><td>  739</td></tr>\n",
       "\t<tr><td>KIA                 </td><td> 4990</td></tr>\n",
       "\t<tr><td>LAND ROVER          </td><td>   38</td></tr>\n",
       "\t<tr><td>LINCOLN             </td><td>  105</td></tr>\n",
       "\t<tr><td>LUCID MOTORS        </td><td>   23</td></tr>\n",
       "\t<tr><td>MERCEDES-BENZ       </td><td>  369</td></tr>\n",
       "\t<tr><td>MINI                </td><td>  493</td></tr>\n",
       "\t<tr><td>MITSUBISHI          </td><td>  587</td></tr>\n",
       "\t<tr><td>NISSAN              </td><td>12791</td></tr>\n",
       "\t<tr><td>POLESTAR            </td><td>  365</td></tr>\n",
       "\t<tr><td>PORSCHE             </td><td>  722</td></tr>\n",
       "\t<tr><td>RIVIAN              </td><td>   83</td></tr>\n",
       "\t<tr><td>SMART               </td><td>  274</td></tr>\n",
       "\t<tr><td>SUBARU              </td><td>   53</td></tr>\n",
       "\t<tr><td>TESLA               </td><td>43681</td></tr>\n",
       "\t<tr><td>TH!NK               </td><td>    3</td></tr>\n",
       "\t<tr><td>TOYOTA              </td><td> 4057</td></tr>\n",
       "\t<tr><td>VOLKSWAGEN          </td><td> 2020</td></tr>\n",
       "\t<tr><td>VOLVO               </td><td> 2115</td></tr>\n",
       "\t<tr><td>WHEEGO ELECTRIC CARS</td><td>    3</td></tr>\n",
       "</tbody>\n",
       "</table>\n"
      ],
      "text/latex": [
       "A tibble: 34 × 2\n",
       "\\begin{tabular}{ll}\n",
       " Make & count\\\\\n",
       " <chr> & <int>\\\\\n",
       "\\hline\n",
       "\t AUDI                 &  2009\\\\\n",
       "\t AZURE DYNAMICS       &     7\\\\\n",
       "\t BENTLEY              &     2\\\\\n",
       "\t BMW                  &  4187\\\\\n",
       "\t CADILLAC             &   109\\\\\n",
       "\t CHEVROLET            &  9499\\\\\n",
       "\t CHRYSLER             &  1675\\\\\n",
       "\t DODGE                &     1\\\\\n",
       "\t FIAT                 &   826\\\\\n",
       "\t FISKER               &    13\\\\\n",
       "\t FORD                 &  5966\\\\\n",
       "\t HONDA                &   774\\\\\n",
       "\t HYUNDAI              &  1485\\\\\n",
       "\t JAGUAR               &   205\\\\\n",
       "\t JEEP                 &   739\\\\\n",
       "\t KIA                  &  4990\\\\\n",
       "\t LAND ROVER           &    38\\\\\n",
       "\t LINCOLN              &   105\\\\\n",
       "\t LUCID MOTORS         &    23\\\\\n",
       "\t MERCEDES-BENZ        &   369\\\\\n",
       "\t MINI                 &   493\\\\\n",
       "\t MITSUBISHI           &   587\\\\\n",
       "\t NISSAN               & 12791\\\\\n",
       "\t POLESTAR             &   365\\\\\n",
       "\t PORSCHE              &   722\\\\\n",
       "\t RIVIAN               &    83\\\\\n",
       "\t SMART                &   274\\\\\n",
       "\t SUBARU               &    53\\\\\n",
       "\t TESLA                & 43681\\\\\n",
       "\t TH!NK                &     3\\\\\n",
       "\t TOYOTA               &  4057\\\\\n",
       "\t VOLKSWAGEN           &  2020\\\\\n",
       "\t VOLVO                &  2115\\\\\n",
       "\t WHEEGO ELECTRIC CARS &     3\\\\\n",
       "\\end{tabular}\n"
      ],
      "text/markdown": [
       "\n",
       "A tibble: 34 × 2\n",
       "\n",
       "| Make &lt;chr&gt; | count &lt;int&gt; |\n",
       "|---|---|\n",
       "| AUDI                 |  2009 |\n",
       "| AZURE DYNAMICS       |     7 |\n",
       "| BENTLEY              |     2 |\n",
       "| BMW                  |  4187 |\n",
       "| CADILLAC             |   109 |\n",
       "| CHEVROLET            |  9499 |\n",
       "| CHRYSLER             |  1675 |\n",
       "| DODGE                |     1 |\n",
       "| FIAT                 |   826 |\n",
       "| FISKER               |    13 |\n",
       "| FORD                 |  5966 |\n",
       "| HONDA                |   774 |\n",
       "| HYUNDAI              |  1485 |\n",
       "| JAGUAR               |   205 |\n",
       "| JEEP                 |   739 |\n",
       "| KIA                  |  4990 |\n",
       "| LAND ROVER           |    38 |\n",
       "| LINCOLN              |   105 |\n",
       "| LUCID MOTORS         |    23 |\n",
       "| MERCEDES-BENZ        |   369 |\n",
       "| MINI                 |   493 |\n",
       "| MITSUBISHI           |   587 |\n",
       "| NISSAN               | 12791 |\n",
       "| POLESTAR             |   365 |\n",
       "| PORSCHE              |   722 |\n",
       "| RIVIAN               |    83 |\n",
       "| SMART                |   274 |\n",
       "| SUBARU               |    53 |\n",
       "| TESLA                | 43681 |\n",
       "| TH!NK                |     3 |\n",
       "| TOYOTA               |  4057 |\n",
       "| VOLKSWAGEN           |  2020 |\n",
       "| VOLVO                |  2115 |\n",
       "| WHEEGO ELECTRIC CARS |     3 |\n",
       "\n"
      ],
      "text/plain": [
       "   Make                 count\n",
       "1  AUDI                  2009\n",
       "2  AZURE DYNAMICS           7\n",
       "3  BENTLEY                  2\n",
       "4  BMW                   4187\n",
       "5  CADILLAC               109\n",
       "6  CHEVROLET             9499\n",
       "7  CHRYSLER              1675\n",
       "8  DODGE                    1\n",
       "9  FIAT                   826\n",
       "10 FISKER                  13\n",
       "11 FORD                  5966\n",
       "12 HONDA                  774\n",
       "13 HYUNDAI               1485\n",
       "14 JAGUAR                 205\n",
       "15 JEEP                   739\n",
       "16 KIA                   4990\n",
       "17 LAND ROVER              38\n",
       "18 LINCOLN                105\n",
       "19 LUCID MOTORS            23\n",
       "20 MERCEDES-BENZ          369\n",
       "21 MINI                   493\n",
       "22 MITSUBISHI             587\n",
       "23 NISSAN               12791\n",
       "24 POLESTAR               365\n",
       "25 PORSCHE                722\n",
       "26 RIVIAN                  83\n",
       "27 SMART                  274\n",
       "28 SUBARU                  53\n",
       "29 TESLA                43681\n",
       "30 TH!NK                    3\n",
       "31 TOYOTA                4057\n",
       "32 VOLKSWAGEN            2020\n",
       "33 VOLVO                 2115\n",
       "34 WHEEGO ELECTRIC CARS     3"
      ]
     },
     "metadata": {},
     "output_type": "display_data"
    }
   ],
   "source": [
    "View(Green_cars4)"
   ]
  },
  {
   "cell_type": "code",
   "execution_count": null,
   "id": "592f3be5",
   "metadata": {},
   "outputs": [],
   "source": []
  }
 ],
 "metadata": {
  "kernelspec": {
   "display_name": "R",
   "language": "R",
   "name": "ir"
  },
  "language_info": {
   "codemirror_mode": "r",
   "file_extension": ".r",
   "mimetype": "text/x-r-source",
   "name": "R",
   "pygments_lexer": "r",
   "version": "4.1.2"
  }
 },
 "nbformat": 4,
 "nbformat_minor": 5
}
